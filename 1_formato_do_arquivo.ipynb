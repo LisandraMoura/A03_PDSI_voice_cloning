{
 "cells": [
  {
   "cell_type": "markdown",
   "metadata": {},
   "source": [
    "# Para garantir que a entrada do código esteja correta, converta os tipos listados para WAV"
   ]
  },
  {
   "cell_type": "markdown",
   "metadata": {},
   "source": [
    "# Opus para WAV"
   ]
  },
  {
   "cell_type": "code",
   "execution_count": null,
   "metadata": {},
   "outputs": [],
   "source": [
    "import soundfile as sf\n",
    "import numpy as np\n",
    "import os\n",
    "\n",
    "# Para audios do whatsapp\n",
    "\n",
    "def converter_opus_para_wav(caminho_opus, caminho_wav):\n",
    "    data, samplerate = sf.read(caminho_opus, dtype='float32')\n",
    "\n",
    "    sf.write(caminho_wav, data, samplerate, format='WAV')\n",
    "\n",
    "# Passando o caminho do audio original\n",
    "caminho_arquivo_opus = 'caminho do arquivo'\n",
    "\n",
    "# salvando audio\n",
    "caminho_arquivo_wav = 'arquivoconvertido.wav'"
   ]
  },
  {
   "cell_type": "markdown",
   "metadata": {},
   "source": [
    "# MP3 para WAV"
   ]
  },
  {
   "cell_type": "code",
   "execution_count": null,
   "metadata": {},
   "outputs": [],
   "source": [
    "import locale\n",
    "def getpreferredencoding(do_setlocale = True):\n",
    "    return \"UTF-8\"\n",
    "locale.getpreferredencoding = getpreferredencoding"
   ]
  },
  {
   "cell_type": "code",
   "execution_count": null,
   "metadata": {},
   "outputs": [],
   "source": [
    "from pydub import AudioSegment\n",
    "import os\n",
    "\n",
    "def converter_mp3_para_wav(caminho_mp3, caminho_wav):\n",
    "    audio = AudioSegment.from_mp3(caminho_mp3)\n",
    "\n",
    "    audio.export(caminho_wav, format=\"wav\")\n",
    "\n",
    "# Passando o caminho do audio original\n",
    "caminho_arquivo_mp3 = '/content/drive/MyDrive/PDSI/Miley_2.mp3'\n",
    "\n",
    "# Salvando audio\n",
    "caminho_arquivo_wav = '/content/drive/MyDrive/PDSI/Mileyconvertido2.wav'\n",
    "\n",
    "# Verifica se o arquivo MP3 existe\n",
    "if os.path.exists(caminho_arquivo_mp3):\n",
    "    converter_mp3_para_wav(caminho_arquivo_mp3, caminho_arquivo_wav)\n",
    "    print(f\"Arquivo convertido com sucesso: {caminho_arquivo_wav}\")\n",
    "else:\n",
    "    print(f\"Arquivo não encontrado: {caminho_arquivo_mp3}\")\n"
   ]
  },
  {
   "cell_type": "markdown",
   "metadata": {},
   "source": [
    "# Para gravar audios já no formato WAV\n",
    "\n",
    "https://products.aspose.app/audio/pt/voice-recorder/wav\n",
    "\n",
    "---\n",
    "\n"
   ]
  }
 ],
 "metadata": {
  "language_info": {
   "name": "python"
  }
 },
 "nbformat": 4,
 "nbformat_minor": 2
}
